{
 "cells": [
  {
   "cell_type": "markdown",
   "metadata": {
    "id": "H9wADwK78DCz"
   },
   "source": [
    "# Proyek Analisis Data: [Input Nama Dataset]\n",
    "- **Nama:** M Fajrin Wirattama\n",
    "- **Email:** fajrinwirattama21@gmail.com\n",
    "- **ID Dicoding:** wirattama"
   ]
  },
  {
   "cell_type": "markdown",
   "metadata": {
    "id": "eE0raob58DC0"
   },
   "source": [
    "## Menentukan Pertanyaan Bisnis"
   ]
  },
  {
   "cell_type": "markdown",
   "metadata": {
    "id": "GmQeQ5YF8DC0"
   },
   "source": [
    "- Apakah terdapat tren penurunan atau peningkatan PM2.5 DAN PM10 dalam beberapa tahun terakhir?\n",
    "\n",
    "- Apakah terdapat tren penurunan atau peningkatan CO DAN NO2 dalam beberapa tahun terakhir pada station Aotizhongxin dan Changping?"
   ]
  },
  {
   "cell_type": "markdown",
   "metadata": {
    "id": "H-z4QGlO8DC1"
   },
   "source": [
    "## Import Semua Packages/Library yang Digunakan"
   ]
  },
  {
   "cell_type": "code",
   "execution_count": 1,
   "metadata": {
    "id": "FVYwaObI8DC1"
   },
   "outputs": [],
   "source": [
    "import pandas as pd\n",
    "import numpy as np\n",
    "import matplotlib.pyplot as plt\n",
    "import seaborn as sns\n",
    "import os, zipfile"
   ]
  },
  {
   "cell_type": "markdown",
   "metadata": {
    "id": "h_Sh51Xy8DC1"
   },
   "source": [
    "## Data Wrangling"
   ]
  },
  {
   "cell_type": "markdown",
   "metadata": {
    "id": "sXU2GBYu8DC1"
   },
   "source": [
    "### Gathering Data"
   ]
  },
  {
   "cell_type": "code",
   "execution_count": 2,
   "metadata": {
    "id": "zjCBk1BI8DC1"
   },
   "outputs": [
    {
     "name": "stdout",
     "output_type": "stream",
     "text": [
      "          No  year  month  day  hour  PM2.5  PM10   SO2   NO2     CO    O3  \\\n",
      "0          1  2013      3    1     0    4.0   4.0   4.0   7.0  300.0  77.0   \n",
      "1          2  2013      3    1     1    8.0   8.0   4.0   7.0  300.0  77.0   \n",
      "2          3  2013      3    1     2    7.0   7.0   5.0  10.0  300.0  73.0   \n",
      "3          4  2013      3    1     3    6.0   6.0  11.0  11.0  300.0  72.0   \n",
      "4          5  2013      3    1     4    3.0   3.0  12.0  12.0  300.0  72.0   \n",
      "...      ...   ...    ...  ...   ...    ...   ...   ...   ...    ...   ...   \n",
      "35059  35060  2017      2   28    19   12.0  29.0   5.0  35.0  400.0  95.0   \n",
      "35060  35061  2017      2   28    20   13.0  37.0   7.0  45.0  500.0  81.0   \n",
      "35061  35062  2017      2   28    21   16.0  37.0  10.0  66.0  700.0  58.0   \n",
      "35062  35063  2017      2   28    22   21.0  44.0  12.0  87.0  700.0  35.0   \n",
      "35063  35064  2017      2   28    23   19.0  31.0  10.0  79.0  600.0  42.0   \n",
      "\n",
      "       TEMP    PRES  DEWP  RAIN   wd  WSPM       station  \n",
      "0      -0.7  1023.0 -18.8   0.0  NNW   4.4  Aotizhongxin  \n",
      "1      -1.1  1023.2 -18.2   0.0    N   4.7  Aotizhongxin  \n",
      "2      -1.1  1023.5 -18.2   0.0  NNW   5.6  Aotizhongxin  \n",
      "3      -1.4  1024.5 -19.4   0.0   NW   3.1  Aotizhongxin  \n",
      "4      -2.0  1025.2 -19.5   0.0    N   2.0  Aotizhongxin  \n",
      "...     ...     ...   ...   ...  ...   ...           ...  \n",
      "35059  12.5  1013.5 -16.2   0.0   NW   2.4  Aotizhongxin  \n",
      "35060  11.6  1013.6 -15.1   0.0  WNW   0.9  Aotizhongxin  \n",
      "35061  10.8  1014.2 -13.3   0.0   NW   1.1  Aotizhongxin  \n",
      "35062  10.5  1014.4 -12.9   0.0  NNW   1.2  Aotizhongxin  \n",
      "35063   8.6  1014.1 -15.9   0.0  NNE   1.3  Aotizhongxin  \n",
      "\n",
      "[35064 rows x 18 columns]\n"
     ]
    }
   ],
   "source": [
    "Aotizhongxin = pd.read_csv(\"Data/PRSA_Data_Aotizhongxin_20130301-20170228.csv\")\n",
    "print(Aotizhongxin)"
   ]
  },
  {
   "cell_type": "code",
   "execution_count": 3,
   "metadata": {},
   "outputs": [
    {
     "name": "stdout",
     "output_type": "stream",
     "text": [
      "          No  year  month  day  hour  PM2.5  PM10   SO2   NO2     CO    O3  \\\n",
      "0          1  2013      3    1     0    3.0   6.0  13.0   7.0  300.0  85.0   \n",
      "1          2  2013      3    1     1    3.0   3.0   6.0   6.0  300.0  85.0   \n",
      "2          3  2013      3    1     2    3.0   3.0  22.0  13.0  400.0  74.0   \n",
      "3          4  2013      3    1     3    3.0   6.0  12.0   8.0  300.0  81.0   \n",
      "4          5  2013      3    1     4    3.0   3.0  14.0   8.0  300.0  81.0   \n",
      "...      ...   ...    ...  ...   ...    ...   ...   ...   ...    ...   ...   \n",
      "35059  35060  2017      2   28    19   28.0  47.0   4.0  14.0  300.0   NaN   \n",
      "35060  35061  2017      2   28    20   12.0  12.0   3.0  23.0  500.0  64.0   \n",
      "35061  35062  2017      2   28    21    7.0  23.0   5.0  17.0  500.0  68.0   \n",
      "35062  35063  2017      2   28    22   11.0  20.0   3.0  15.0  500.0  72.0   \n",
      "35063  35064  2017      2   28    23   20.0  25.0   6.0  28.0  900.0  54.0   \n",
      "\n",
      "       TEMP    PRES  DEWP  RAIN   wd  WSPM    station  \n",
      "0      -2.3  1020.8 -19.7   0.0    E   0.5  Changping  \n",
      "1      -2.5  1021.3 -19.0   0.0  ENE   0.7  Changping  \n",
      "2      -3.0  1021.3 -19.9   0.0  ENE   0.2  Changping  \n",
      "3      -3.6  1021.8 -19.1   0.0  NNE   1.0  Changping  \n",
      "4      -3.5  1022.3 -19.4   0.0    N   2.1  Changping  \n",
      "...     ...     ...   ...   ...  ...   ...        ...  \n",
      "35059  11.7  1008.9 -13.3   0.0  NNE   1.3  Changping  \n",
      "35060  10.9  1009.0 -14.0   0.0    N   2.1  Changping  \n",
      "35061   9.5  1009.4 -13.0   0.0    N   1.5  Changping  \n",
      "35062   7.8  1009.6 -12.6   0.0   NW   1.4  Changping  \n",
      "35063   7.0  1009.4 -12.2   0.0    N   1.9  Changping  \n",
      "\n",
      "[35064 rows x 18 columns]\n"
     ]
    }
   ],
   "source": [
    "Changping = pd.read_csv(\"Data/PRSA_Data_Changping_20130301-20170228.csv\")\n",
    "print(Changping)"
   ]
  },
  {
   "cell_type": "code",
   "execution_count": 28,
   "metadata": {},
   "outputs": [
    {
     "name": "stdout",
     "output_type": "stream",
     "text": [
      "   year  PM2.5  PM10   NO2     CO       station\n",
      "0  2013    4.0   4.0   7.0  300.0  Aotizhongxin\n",
      "1  2013    8.0   8.0   7.0  300.0  Aotizhongxin\n",
      "2  2013    7.0   7.0  10.0  300.0  Aotizhongxin\n",
      "3  2013    6.0   6.0  11.0  300.0  Aotizhongxin\n",
      "4  2013    3.0   3.0  12.0  300.0  Aotizhongxin\n"
     ]
    }
   ],
   "source": [
    "data = [\"year\", \"PM2.5\", \"PM10\", \"NO2\", \"CO\", \"station\"]\n",
    "df1 = Aotizhongxin[data]\n",
    "df2 = Changping[data]\n",
    "merged_data = pd.concat([df1, df2], ignore_index=True)\n",
    "merged_data.to_csv(\"merged_data.csv\", index=False)\n",
    "print(merged_data.head())"
   ]
  },
  {
   "cell_type": "markdown",
   "metadata": {
    "id": "FHSiqaZp8DC1"
   },
   "source": [
    "### Assessing Data"
   ]
  },
  {
   "cell_type": "code",
   "execution_count": 29,
   "metadata": {
    "id": "ax-3tEjc9Cj1"
   },
   "outputs": [
    {
     "name": "stdout",
     "output_type": "stream",
     "text": [
      "<class 'pandas.core.frame.DataFrame'>\n",
      "RangeIndex: 35064 entries, 0 to 35063\n",
      "Data columns (total 18 columns):\n",
      " #   Column   Non-Null Count  Dtype  \n",
      "---  ------   --------------  -----  \n",
      " 0   No       35064 non-null  int64  \n",
      " 1   year     35064 non-null  int64  \n",
      " 2   month    35064 non-null  int64  \n",
      " 3   day      35064 non-null  int64  \n",
      " 4   hour     35064 non-null  int64  \n",
      " 5   PM2.5    34139 non-null  float64\n",
      " 6   PM10     34346 non-null  float64\n",
      " 7   SO2      34129 non-null  float64\n",
      " 8   NO2      34041 non-null  float64\n",
      " 9   CO       33288 non-null  float64\n",
      " 10  O3       33345 non-null  float64\n",
      " 11  TEMP     35044 non-null  float64\n",
      " 12  PRES     35044 non-null  float64\n",
      " 13  DEWP     35044 non-null  float64\n",
      " 14  RAIN     35044 non-null  float64\n",
      " 15  wd       34983 non-null  object \n",
      " 16  WSPM     35050 non-null  float64\n",
      " 17  station  35064 non-null  object \n",
      "dtypes: float64(11), int64(5), object(2)\n",
      "memory usage: 4.8+ MB\n",
      "<class 'pandas.core.frame.DataFrame'>\n",
      "RangeIndex: 35064 entries, 0 to 35063\n",
      "Data columns (total 18 columns):\n",
      " #   Column   Non-Null Count  Dtype  \n",
      "---  ------   --------------  -----  \n",
      " 0   No       35064 non-null  int64  \n",
      " 1   year     35064 non-null  int64  \n",
      " 2   month    35064 non-null  int64  \n",
      " 3   day      35064 non-null  int64  \n",
      " 4   hour     35064 non-null  int64  \n",
      " 5   PM2.5    34290 non-null  float64\n",
      " 6   PM10     34482 non-null  float64\n",
      " 7   SO2      34436 non-null  float64\n",
      " 8   NO2      34397 non-null  float64\n",
      " 9   CO       33543 non-null  float64\n",
      " 10  O3       34460 non-null  float64\n",
      " 11  TEMP     35011 non-null  float64\n",
      " 12  PRES     35014 non-null  float64\n",
      " 13  DEWP     35011 non-null  float64\n",
      " 14  RAIN     35013 non-null  float64\n",
      " 15  wd       34924 non-null  object \n",
      " 16  WSPM     35021 non-null  float64\n",
      " 17  station  35064 non-null  object \n",
      "dtypes: float64(11), int64(5), object(2)\n",
      "memory usage: 4.8+ MB\n",
      "<class 'pandas.core.frame.DataFrame'>\n",
      "RangeIndex: 70128 entries, 0 to 70127\n",
      "Data columns (total 6 columns):\n",
      " #   Column   Non-Null Count  Dtype  \n",
      "---  ------   --------------  -----  \n",
      " 0   year     70128 non-null  int64  \n",
      " 1   PM2.5    68429 non-null  float64\n",
      " 2   PM10     68828 non-null  float64\n",
      " 3   NO2      68438 non-null  float64\n",
      " 4   CO       66831 non-null  float64\n",
      " 5   station  70128 non-null  object \n",
      "dtypes: float64(4), int64(1), object(1)\n",
      "memory usage: 3.2+ MB\n"
     ]
    }
   ],
   "source": [
    "Aotizhongxin.info()\n",
    "Changping.info()\n",
    "merged_data.info()"
   ]
  },
  {
   "cell_type": "markdown",
   "metadata": {
    "id": "EhN5R4hr8DC1"
   },
   "source": [
    "### Cleaning Data"
   ]
  },
  {
   "cell_type": "code",
   "execution_count": 30,
   "metadata": {
    "id": "jVnYpprE9Evz"
   },
   "outputs": [
    {
     "data": {
      "text/plain": [
       "year          0\n",
       "PM2.5      1699\n",
       "PM10       1300\n",
       "NO2        1690\n",
       "CO         3297\n",
       "station       0\n",
       "dtype: int64"
      ]
     },
     "execution_count": 30,
     "metadata": {},
     "output_type": "execute_result"
    }
   ],
   "source": [
    "merged_data.isnull().sum()"
   ]
  },
  {
   "cell_type": "code",
   "execution_count": 32,
   "metadata": {},
   "outputs": [],
   "source": [
    "mdc = merged_data.dropna()"
   ]
  },
  {
   "cell_type": "code",
   "execution_count": 33,
   "metadata": {},
   "outputs": [
    {
     "data": {
      "text/plain": [
       "year       0\n",
       "PM2.5      0\n",
       "PM10       0\n",
       "NO2        0\n",
       "CO         0\n",
       "station    0\n",
       "dtype: int64"
      ]
     },
     "execution_count": 33,
     "metadata": {},
     "output_type": "execute_result"
    }
   ],
   "source": [
    "mdc.isnull().sum()"
   ]
  },
  {
   "cell_type": "markdown",
   "metadata": {
    "id": "Q_5ejIqckiSP"
   },
   "source": [
    "**Insight:**\n",
    "- xxx\n",
    "- xxx"
   ]
  },
  {
   "cell_type": "code",
   "execution_count": 37,
   "metadata": {
    "id": "e9CQCZjk8DC2"
   },
   "outputs": [
    {
     "data": {
      "text/plain": [
       "943"
      ]
     },
     "execution_count": 37,
     "metadata": {},
     "output_type": "execute_result"
    }
   ],
   "source": [
    "mdc.duplicated().sum()"
   ]
  },
  {
   "cell_type": "code",
   "execution_count": 38,
   "metadata": {},
   "outputs": [],
   "source": [
    "mdc_clean = mdc.drop_duplicates()"
   ]
  },
  {
   "cell_type": "code",
   "execution_count": 39,
   "metadata": {},
   "outputs": [
    {
     "data": {
      "text/plain": [
       "0"
      ]
     },
     "execution_count": 39,
     "metadata": {},
     "output_type": "execute_result"
    }
   ],
   "source": [
    "mdc_clean.duplicated().sum()"
   ]
  },
  {
   "cell_type": "code",
   "execution_count": 40,
   "metadata": {},
   "outputs": [
    {
     "data": {
      "text/html": [
       "<div>\n",
       "<style scoped>\n",
       "    .dataframe tbody tr th:only-of-type {\n",
       "        vertical-align: middle;\n",
       "    }\n",
       "\n",
       "    .dataframe tbody tr th {\n",
       "        vertical-align: top;\n",
       "    }\n",
       "\n",
       "    .dataframe thead th {\n",
       "        text-align: right;\n",
       "    }\n",
       "</style>\n",
       "<table border=\"1\" class=\"dataframe\">\n",
       "  <thead>\n",
       "    <tr style=\"text-align: right;\">\n",
       "      <th></th>\n",
       "      <th>year</th>\n",
       "      <th>PM2.5</th>\n",
       "      <th>PM10</th>\n",
       "      <th>NO2</th>\n",
       "      <th>CO</th>\n",
       "    </tr>\n",
       "  </thead>\n",
       "  <tbody>\n",
       "    <tr>\n",
       "      <th>count</th>\n",
       "      <td>64863.000000</td>\n",
       "      <td>64863.000000</td>\n",
       "      <td>64863.000000</td>\n",
       "      <td>64863.000000</td>\n",
       "      <td>64863.000000</td>\n",
       "    </tr>\n",
       "    <tr>\n",
       "      <th>mean</th>\n",
       "      <td>2014.709588</td>\n",
       "      <td>76.800712</td>\n",
       "      <td>102.482970</td>\n",
       "      <td>52.069028</td>\n",
       "      <td>1216.304719</td>\n",
       "    </tr>\n",
       "    <tr>\n",
       "      <th>std</th>\n",
       "      <td>1.168608</td>\n",
       "      <td>76.166615</td>\n",
       "      <td>88.659515</td>\n",
       "      <td>34.354865</td>\n",
       "      <td>1170.977494</td>\n",
       "    </tr>\n",
       "    <tr>\n",
       "      <th>min</th>\n",
       "      <td>2013.000000</td>\n",
       "      <td>3.000000</td>\n",
       "      <td>2.000000</td>\n",
       "      <td>2.000000</td>\n",
       "      <td>100.000000</td>\n",
       "    </tr>\n",
       "    <tr>\n",
       "      <th>25%</th>\n",
       "      <td>2014.000000</td>\n",
       "      <td>20.000000</td>\n",
       "      <td>36.000000</td>\n",
       "      <td>25.000000</td>\n",
       "      <td>500.000000</td>\n",
       "    </tr>\n",
       "    <tr>\n",
       "      <th>50%</th>\n",
       "      <td>2015.000000</td>\n",
       "      <td>53.000000</td>\n",
       "      <td>79.000000</td>\n",
       "      <td>44.000000</td>\n",
       "      <td>800.000000</td>\n",
       "    </tr>\n",
       "    <tr>\n",
       "      <th>75%</th>\n",
       "      <td>2016.000000</td>\n",
       "      <td>107.000000</td>\n",
       "      <td>143.000000</td>\n",
       "      <td>72.000000</td>\n",
       "      <td>1500.000000</td>\n",
       "    </tr>\n",
       "    <tr>\n",
       "      <th>max</th>\n",
       "      <td>2017.000000</td>\n",
       "      <td>713.000000</td>\n",
       "      <td>992.000000</td>\n",
       "      <td>290.000000</td>\n",
       "      <td>10000.000000</td>\n",
       "    </tr>\n",
       "  </tbody>\n",
       "</table>\n",
       "</div>"
      ],
      "text/plain": [
       "               year         PM2.5          PM10           NO2            CO\n",
       "count  64863.000000  64863.000000  64863.000000  64863.000000  64863.000000\n",
       "mean    2014.709588     76.800712    102.482970     52.069028   1216.304719\n",
       "std        1.168608     76.166615     88.659515     34.354865   1170.977494\n",
       "min     2013.000000      3.000000      2.000000      2.000000    100.000000\n",
       "25%     2014.000000     20.000000     36.000000     25.000000    500.000000\n",
       "50%     2015.000000     53.000000     79.000000     44.000000    800.000000\n",
       "75%     2016.000000    107.000000    143.000000     72.000000   1500.000000\n",
       "max     2017.000000    713.000000    992.000000    290.000000  10000.000000"
      ]
     },
     "execution_count": 40,
     "metadata": {},
     "output_type": "execute_result"
    }
   ],
   "source": [
    "mdc_clean.describe()"
   ]
  },
  {
   "cell_type": "markdown",
   "metadata": {
    "id": "gp-Y6wU38DC1"
   },
   "source": [
    "## Exploratory Data Analysis (EDA)"
   ]
  },
  {
   "cell_type": "code",
   "execution_count": 41,
   "metadata": {},
   "outputs": [
    {
     "data": {
      "text/html": [
       "<div>\n",
       "<style scoped>\n",
       "    .dataframe tbody tr th:only-of-type {\n",
       "        vertical-align: middle;\n",
       "    }\n",
       "\n",
       "    .dataframe tbody tr th {\n",
       "        vertical-align: top;\n",
       "    }\n",
       "\n",
       "    .dataframe thead th {\n",
       "        text-align: right;\n",
       "    }\n",
       "</style>\n",
       "<table border=\"1\" class=\"dataframe\">\n",
       "  <thead>\n",
       "    <tr style=\"text-align: right;\">\n",
       "      <th></th>\n",
       "      <th>year</th>\n",
       "      <th>PM2.5</th>\n",
       "      <th>PM10</th>\n",
       "      <th>NO2</th>\n",
       "      <th>CO</th>\n",
       "      <th>station</th>\n",
       "    </tr>\n",
       "  </thead>\n",
       "  <tbody>\n",
       "    <tr>\n",
       "      <th>count</th>\n",
       "      <td>64863.000000</td>\n",
       "      <td>64863.000000</td>\n",
       "      <td>64863.000000</td>\n",
       "      <td>64863.000000</td>\n",
       "      <td>64863.000000</td>\n",
       "      <td>64863</td>\n",
       "    </tr>\n",
       "    <tr>\n",
       "      <th>unique</th>\n",
       "      <td>NaN</td>\n",
       "      <td>NaN</td>\n",
       "      <td>NaN</td>\n",
       "      <td>NaN</td>\n",
       "      <td>NaN</td>\n",
       "      <td>2</td>\n",
       "    </tr>\n",
       "    <tr>\n",
       "      <th>top</th>\n",
       "      <td>NaN</td>\n",
       "      <td>NaN</td>\n",
       "      <td>NaN</td>\n",
       "      <td>NaN</td>\n",
       "      <td>NaN</td>\n",
       "      <td>Changping</td>\n",
       "    </tr>\n",
       "    <tr>\n",
       "      <th>freq</th>\n",
       "      <td>NaN</td>\n",
       "      <td>NaN</td>\n",
       "      <td>NaN</td>\n",
       "      <td>NaN</td>\n",
       "      <td>NaN</td>\n",
       "      <td>32555</td>\n",
       "    </tr>\n",
       "    <tr>\n",
       "      <th>mean</th>\n",
       "      <td>2014.709588</td>\n",
       "      <td>76.800712</td>\n",
       "      <td>102.482970</td>\n",
       "      <td>52.069028</td>\n",
       "      <td>1216.304719</td>\n",
       "      <td>NaN</td>\n",
       "    </tr>\n",
       "    <tr>\n",
       "      <th>std</th>\n",
       "      <td>1.168608</td>\n",
       "      <td>76.166615</td>\n",
       "      <td>88.659515</td>\n",
       "      <td>34.354865</td>\n",
       "      <td>1170.977494</td>\n",
       "      <td>NaN</td>\n",
       "    </tr>\n",
       "    <tr>\n",
       "      <th>min</th>\n",
       "      <td>2013.000000</td>\n",
       "      <td>3.000000</td>\n",
       "      <td>2.000000</td>\n",
       "      <td>2.000000</td>\n",
       "      <td>100.000000</td>\n",
       "      <td>NaN</td>\n",
       "    </tr>\n",
       "    <tr>\n",
       "      <th>25%</th>\n",
       "      <td>2014.000000</td>\n",
       "      <td>20.000000</td>\n",
       "      <td>36.000000</td>\n",
       "      <td>25.000000</td>\n",
       "      <td>500.000000</td>\n",
       "      <td>NaN</td>\n",
       "    </tr>\n",
       "    <tr>\n",
       "      <th>50%</th>\n",
       "      <td>2015.000000</td>\n",
       "      <td>53.000000</td>\n",
       "      <td>79.000000</td>\n",
       "      <td>44.000000</td>\n",
       "      <td>800.000000</td>\n",
       "      <td>NaN</td>\n",
       "    </tr>\n",
       "    <tr>\n",
       "      <th>75%</th>\n",
       "      <td>2016.000000</td>\n",
       "      <td>107.000000</td>\n",
       "      <td>143.000000</td>\n",
       "      <td>72.000000</td>\n",
       "      <td>1500.000000</td>\n",
       "      <td>NaN</td>\n",
       "    </tr>\n",
       "    <tr>\n",
       "      <th>max</th>\n",
       "      <td>2017.000000</td>\n",
       "      <td>713.000000</td>\n",
       "      <td>992.000000</td>\n",
       "      <td>290.000000</td>\n",
       "      <td>10000.000000</td>\n",
       "      <td>NaN</td>\n",
       "    </tr>\n",
       "  </tbody>\n",
       "</table>\n",
       "</div>"
      ],
      "text/plain": [
       "                year         PM2.5          PM10           NO2            CO  \\\n",
       "count   64863.000000  64863.000000  64863.000000  64863.000000  64863.000000   \n",
       "unique           NaN           NaN           NaN           NaN           NaN   \n",
       "top              NaN           NaN           NaN           NaN           NaN   \n",
       "freq             NaN           NaN           NaN           NaN           NaN   \n",
       "mean     2014.709588     76.800712    102.482970     52.069028   1216.304719   \n",
       "std         1.168608     76.166615     88.659515     34.354865   1170.977494   \n",
       "min      2013.000000      3.000000      2.000000      2.000000    100.000000   \n",
       "25%      2014.000000     20.000000     36.000000     25.000000    500.000000   \n",
       "50%      2015.000000     53.000000     79.000000     44.000000    800.000000   \n",
       "75%      2016.000000    107.000000    143.000000     72.000000   1500.000000   \n",
       "max      2017.000000    713.000000    992.000000    290.000000  10000.000000   \n",
       "\n",
       "          station  \n",
       "count       64863  \n",
       "unique          2  \n",
       "top     Changping  \n",
       "freq        32555  \n",
       "mean          NaN  \n",
       "std           NaN  \n",
       "min           NaN  \n",
       "25%           NaN  \n",
       "50%           NaN  \n",
       "75%           NaN  \n",
       "max           NaN  "
      ]
     },
     "execution_count": 41,
     "metadata": {},
     "output_type": "execute_result"
    }
   ],
   "source": [
    "mdc_clean.describe(include=\"all\")"
   ]
  },
  {
   "cell_type": "markdown",
   "metadata": {
    "id": "MW7WF2kr8DC1"
   },
   "source": [
    "### Explore ..."
   ]
  },
  {
   "cell_type": "code",
   "execution_count": 47,
   "metadata": {},
   "outputs": [],
   "source": [
    "pm_trend = mdc_clean.groupby(\"year\")[[\"PM2.5\", \"PM10\"]].mean()"
   ]
  },
  {
   "cell_type": "code",
   "execution_count": 45,
   "metadata": {},
   "outputs": [],
   "source": [
    "station = [\"Aotizhongxin\", \"Changping\"]\n",
    "co_no2_trend = mdc_clean[udara[\"station\"].isin(stations)].groupby([\"year\", \"station\"])[[\"CO\", \"NO2\"]].mean().reset_index()"
   ]
  },
  {
   "cell_type": "markdown",
   "metadata": {
    "id": "zsyZjqak8DC2"
   },
   "source": [
    "## Visualization & Explanatory Analysis"
   ]
  },
  {
   "cell_type": "markdown",
   "metadata": {
    "id": "HZxOiQ6n8DC2"
   },
   "source": [
    "### Pertanyaan 1:  Apakah terdapat tren penurunan atau peningkatan PM2.5 DAN PM10 dalam beberapa tahun terakhir?"
   ]
  },
  {
   "cell_type": "code",
   "execution_count": 49,
   "metadata": {
    "id": "1swJUdAD8DC2"
   },
   "outputs": [
    {
     "data": {
      "image/png": "[encoded data removed]",
      "text/plain": [
       "<Figure size 1000x500 with 1 Axes>"
      ]
     },
     "metadata": {},
     "output_type": "display_data"
    }
   ],
   "source": [
    "plt.figure(figsize=(10, 5))\n",
    "plt.plot(pm_trend.index, pm_trend[\"PM2.5\"], marker=\"o\", linestyle=\"-\", label=\"PM2.5\", color=\"red\")\n",
    "plt.plot(pm_trend.index, pm_trend[\"PM10\"], marker=\"s\", linestyle=\"-\", label=\"PM10\", color=\"blue\")\n",
    "\n",
    "plt.xlabel(\"Tahun\")\n",
    "plt.ylabel(\"Konsentrasi Rata-rata\")\n",
    "plt.title(\"Tren PM2.5 dan PM10 dari Tahun ke Tahun\")\n",
    "plt.legend()\n",
    "plt.grid()\n",
    "plt.show()"
   ]
  },
  {
   "cell_type": "markdown",
   "metadata": {
    "id": "DgHI7CiU8DC2"
   },
   "source": [
    "### Pertanyaan 2:  Apakah terdapat tren penurunan atau peningkatan CO DAN NO2 dalam beberapa tahun terakhir pada station Aotizhongxin dan Changping?"
   ]
  },
  {
   "cell_type": "code",
   "execution_count": 53,
   "metadata": {
    "id": "Go0lCsvO8DC2"
   },
   "outputs": [
    {
     "data": {
      "image/png": "[encoded data removed]",
      "text/plain": [
       "<Figure size 1000x500 with 1 Axes>"
      ]
     },
     "metadata": {},
     "output_type": "display_data"
    }
   ],
   "source": [
    "plt.figure(figsize=(10, 5))\n",
    "for station in stations:\n",
    "    subset = co_no2_trend[co_no2_trend[\"station\"] == station]\n",
    "    plt.plot(subset[\"year\"], subset[\"CO\"], marker=\"o\", linestyle=\"-\", label=f\"CO - {station}\")\n",
    "    plt.plot(subset[\"year\"], subset[\"NO2\"], marker=\"s\", linestyle=\"--\", label=f\"NO2 - {station}\")\n",
    "\n",
    "plt.xlabel(\"Tahun\")\n",
    "plt.ylabel(\"Konsentrasi Rata-rata\")\n",
    "plt.title(\"Tren CO dan NO2 untuk Stasiun Aotizhongxin dan Changping\")\n",
    "plt.legend()\n",
    "plt.grid()\n",
    "plt.show()"
   ]
  },
  {
   "cell_type": "markdown",
   "metadata": {
    "id": "_WeHlCeX8DC2"
   },
   "source": [
    "## Conclusion"
   ]
  },
  {
   "cell_type": "markdown",
   "metadata": {
    "id": "ZTcyR48Y8DC2"
   },
   "source": [
    "- Kesimpulan pertanyaan 1: Konsentrasi PM2.5 dan PM10 meningkat dari 2013 hingga mencapai puncaknya pada 2014, lalu menurun hingga 2016, kemungkinan akibat perbaikan kualitas udara atau faktor lingkungan. Namun, pada 2017, terjadi peningkatan kembali, menunjukkan pola fluktuatif tanpa tren penurunan atau kenaikan yang konsisten. Hal ini mencerminkan ketidakstabilan kualitas udara dalam periode tersebut.\n",
    " \n",
    "- Kesimpulan pertanyaan 2: Grafik tren CO dan NO2 di stasiun Aotizhongxin dan Changping menunjukkan pola fluktuatif. Konsentrasi CO meningkat dari 2013 hingga 2015, menurun pada 2016, lalu naik pada 2017, terutama di Aotizhongxin. NO2 di Aotizhongxin cenderung menurun hingga 2016 sebelum naik tajam pada 2017, sedangkan di Changping, NO2 meningkat pada 2013-2014, sedikit turun pada 2015-2016, dan kembali naik pada 2017. Secara keseluruhan, kualitas udara tidak mengalami perbaikan yang konsisten, dengan lonjakan polutan pada 2017 yang kemungkinan dipengaruhi faktor lingkungan atau aktivitas manusia."
   ]
  }
 ],
 "metadata": {
  "colab": {
   "provenance": []
  },
  "kernelspec": {
   "display_name": "Python 3 (ipykernel)",
   "language": "python",
   "name": "python3"
  },
  "language_info": {
   "codemirror_mode": {
    "name": "ipython",
    "version": 3
   },
   "file_extension": ".py",
   "mimetype": "text/x-python",
   "name": "python",
   "nbconvert_exporter": "python",
   "pygments_lexer": "ipython3",
   "version": "3.11.5"
  },
  "vscode": {
   "interpreter": {
    "hash": "972b3bf27e332e87b5379f2791f6ef9dfc79c71018c370b0d7423235e20fe4d7"
   }
  }
 },
 "nbformat": 4,
 "nbformat_minor": 1
}
